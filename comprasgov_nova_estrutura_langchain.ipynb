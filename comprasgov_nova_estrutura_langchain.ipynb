{
 "cells": [
  {
   "attachments": {},
   "cell_type": "markdown",
   "metadata": {},
   "source": [
    "# Sobre"
   ]
  },
  {
   "attachments": {},
   "cell_type": "markdown",
   "metadata": {},
   "source": []
  },
  {
   "attachments": {},
   "cell_type": "markdown",
   "metadata": {},
   "source": [
    "# Importações"
   ]
  },
  {
   "cell_type": "code",
   "execution_count": 19,
   "metadata": {},
   "outputs": [
    {
     "name": "stdout",
     "output_type": "stream",
     "text": [
      "0           ministerio da educacao\n",
      "1    ministerio de minas e energia\n",
      "2    ministerio de minas e energia\n",
      "3    ministerio de minas e energia\n",
      "4           ministerio da educacao\n",
      "Name: SUPERIOR ORGAN NAME, dtype: object\n"
     ]
    }
   ],
   "source": [
    "import os\n",
    "from langchain.agents import create_pandas_dataframe_agent\n",
    "from langchain.llms import OpenAI\n",
    "import pandas as pd\n",
    "\n",
    "OPENAI_API_KEY = \"\"\n",
    "api_token = os.getenv(\"OPENAI_API_KEY\", OPENAI_API_KEY)\n",
    "\n",
    "df = pd.read_csv('data/uasgs1000.csv')\n",
    "# print(df)\n",
    "\n",
    "# Rtrim spaces values from UNIT NAME, ORGAN NAME and SUPERIOR ORGAN NAME colunms and convert these values to lowercase\n",
    "df['UNIT NAME'] = df['UNIT NAME'].str.rstrip().str.lower()\n",
    "df['ORGAN NAME'] = df['ORGAN NAME'].str.rstrip().str.lower()\n",
    "df['SUPERIOR ORGAN NAME'] = df['SUPERIOR ORGAN NAME'].str.rstrip().str.lower()\n",
    "\n",
    "print(df['SUPERIOR ORGAN NAME'].head())"
   ]
  },
  {
   "cell_type": "code",
   "execution_count": 20,
   "metadata": {},
   "outputs": [
    {
     "name": "stdout",
     "output_type": "stream",
     "text": [
      "['Ministério da Educação' 'Ministério de Minas e Energia'\n",
      " 'Ministério da Defesa'\n",
      " 'Ministério da Agricultura, Pecuária e Abastecimento'\n",
      " 'Empresa Brasileira de Pesquisa Agropecuária'\n",
      " 'Controladoria Geral da União'\n",
      " 'Centrais de Abastecimento de Minas Gerais'\n",
      " 'Ministério do Desenvolvimento Agrário e Agricultura Familiar'\n",
      " 'Ministério do Trabalho e Emprego' 'Presidência da República']\n"
     ]
    }
   ],
   "source": [
    "# Replace values from SUPERIOR ORGAN NAME colunm\n",
    "df['SUPERIOR ORGAN NAME'] = df['SUPERIOR ORGAN NAME'].replace(['ministerio da educacao', \n",
    "                                                               'ministerio de minas e energia',\n",
    "                                                               'ministerio defesa',\n",
    "                                                               'minist. da agricul.,pecuaria e abastecimento',\n",
    "                                                               'empresa brasileira de pesquisa agropecuaria',\n",
    "                                                               'controladoria geral da união',\n",
    "                                                               'centrais de abastecimento de minas gerais',\n",
    "                                                               'ministerio do des. agrario e agric. familiar',\n",
    "                                                               'ministerio do trabalho e emprego',\n",
    "                                                               'presidencia da republica',\n",
    "                                                               'ministerio da infra-estrutura',\n",
    "                                                               'ministerio das comunicacoes',\n",
    "                                                               'ministerio dos transportes',\n",
    "                                                               'ministerio do planejamento,desenv. e gestão',\n",
    "                                                               'ministerio de portos e aeroportos',\n",
    "                                                               'ministerio da economia',\n",
    "                                                               'ministerio da justica',\n",
    "                                                               'ministério do desenvolvimento regional',\n",
    "                                                               'ministerio do turismo',\n",
    "                                                               'ministerio do meio ambiente',\n",
    "                                                               'ministerio do desenv,ind. e comercio exterior',\n",
    "                                                               'ministerio da ciencia,tecnologia e inovação',\n",
    "                                                               'min.da gest.e da inovacao em servicos publico',\n",
    "                                                               'ministerio publico da uniao',\n",
    "                                                               'cia.de entrepostos e armazens ger.de s.paulo',\n",
    "                                                               'ministerio da previdencia social',\n",
    "                                                               'ministerio da saude',\n",
    "                                                               'ministerio das cidades',\n",
    "                                                               'defensoria publica da uniao',\n",
    "                                                               'agencia nacional de mineração',\n",
    "                                                               'ministerio da cultura',\n",
    "                                                               'ministério do trabalho e previdência social',\n",
    "                                                               'conselho regional de medicina - mt',\n",
    "                                                               'conselho estadual de educacao',\n",
    "                                                               'entidades que utilizam conta unica - tct',\n",
    "                                                               'fundo do regime geral da previdencia social',\n",
    "                                                               'fundo de desenvolvimento do centro-oeste',\n",
    "                                                               'ministério da cidadania',\n",
    "                                                               'ministério da pesca e aquicultura',\n",
    "                                                               'conselho nacional do ministério público',\n",
    "                                                               'conselgo regional de engenharia e agronomia',\n",
    "                                                               'min. das mulheres, da igualdade e dos dh',\n",
    "                                                               'conselho reg. de prof.de rel. publ/6ª região',\n",
    "                                                               'companhia docas do pará',\n",
    "                                                               'fund.de previd.compl.serv.pub.fed.poder exec.',\n",
    "                                                               'companhia docas do rio grande do norte',\n",
    "                                                               'minstério dos direitos humanos',\n",
    "                                                               'ministerio das mulheres',\n",
    "                                                               'ministério da segurança pública'],\n",
    "                                                               ['Ministério da Educação',\n",
    "                                                                'Ministério de Minas e Energia',\n",
    "                                                                'Ministério da Defesa',\n",
    "                                                                'Ministério da Agricultura, Pecuária e Abastecimento',\n",
    "                                                                'Empresa Brasileira de Pesquisa Agropecuária',\n",
    "                                                                'Controladoria Geral da União',\n",
    "                                                                'Centrais de Abastecimento de Minas Gerais',\n",
    "                                                                'Ministério do Desenvolvimento Agrário e Agricultura Familiar',\n",
    "                                                                'Ministério do Trabalho e Emprego',\n",
    "                                                                'Presidência da República',\n",
    "                                                                'Ministério da Infraestrutura',\n",
    "                                                                'Ministério das Comunicações',\n",
    "                                                                'Ministério dos Transportes',\n",
    "                                                                'Ministério do Planejamento, Desenvolvimento e Gestão',\n",
    "                                                                'Ministério de Portos e Aeroportos',\n",
    "                                                                'Ministério da Economia',\n",
    "                                                                'Ministério da Justiça',\n",
    "                                                                'Ministério do Desenvolvimento Regional',\n",
    "                                                                'Ministério do Turismo',\n",
    "                                                                'Ministério do Meio Ambiente',\n",
    "                                                                'Ministério do Desenvolvimento, Indústria e Comércio Exterior',\n",
    "                                                                'Ministério da Ciência, Tecnologia e Inovação',\n",
    "                                                                'Ministério da Gestão e da Inovação em Serviços Públicos',\n",
    "                                                                'Ministério Público da União',\n",
    "                                                                'Companhia de Entrepostos e Armazéns Gerais de São Paulo',\n",
    "                                                                'Ministério da Previdência Social',\n",
    "                                                                'Ministério da Saúde',\n",
    "                                                                'Ministério das Cidades',\n",
    "                                                                'Defensoria Pública da União',\n",
    "                                                                'Agência Nacional de Mineração',\n",
    "                                                                'Ministério da Cultura',\n",
    "                                                                'Ministério do Trabalho e Previdência Social',\n",
    "                                                                'Conselho Regional de Medicina - MT',\n",
    "                                                                'Conselho Estadual de Educação',\n",
    "                                                                'Entidades que Utilizam Conta Única - TCT',\n",
    "                                                                'Fundo do Regime Geral da Previdência Social',\n",
    "                                                                'Fundo de Desenvolvimento do Centro-Oeste',\n",
    "                                                                'Ministério da Cidadania',\n",
    "                                                                'Ministério da Pesca e Aquicultura',\n",
    "                                                                'Conselho Nacional do Ministério Público',\n",
    "                                                                'Conselho Regional de Engenharia e Agronomia',\n",
    "                                                                'Ministério das Mulheres, da Igualdade e dos Direitos Humanos',\n",
    "                                                                'Conselho Regional de Profissionais de Relações Públicas - 6ª Região',\n",
    "                                                                'Companhia Docas do Pará',\n",
    "                                                                'Fundo de Previdência Complementar do Servidor Público Federal - Poder Executivo',\n",
    "                                                                'Companhia Docas do Rio Grande do Norte',\n",
    "                                                                'Ministério dos Direitos Humanos',\n",
    "                                                                'Ministério das Mulheres',\n",
    "                                                                'Ministério da Segurança Pública'])\n",
    "\n",
    "print(df['SUPERIOR ORGAN NAME'].unique())"
   ]
  },
  {
   "cell_type": "code",
   "execution_count": null,
   "metadata": {},
   "outputs": [],
   "source": [
    "agent = create_pandas_dataframe_agent(OpenAI(temperature=0),\n",
    "                                      df,\n",
    "                                      verbose=True)\n",
    "\n",
    "agent.run(\"What insights can you give me about the ministerio defesa?\")"
   ]
  }
 ],
 "metadata": {
  "kernelspec": {
   "display_name": "pandasai",
   "language": "python",
   "name": "python3"
  },
  "language_info": {
   "codemirror_mode": {
    "name": "ipython",
    "version": 3
   },
   "file_extension": ".py",
   "mimetype": "text/x-python",
   "name": "python",
   "nbconvert_exporter": "python",
   "pygments_lexer": "ipython3",
   "version": "3.10.10"
  },
  "orig_nbformat": 4
 },
 "nbformat": 4,
 "nbformat_minor": 2
}
