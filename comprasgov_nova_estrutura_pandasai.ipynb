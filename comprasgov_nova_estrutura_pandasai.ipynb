{
 "cells": [
  {
   "attachments": {},
   "cell_type": "markdown",
   "metadata": {},
   "source": [
    "# Sobre"
   ]
  },
  {
   "attachments": {},
   "cell_type": "markdown",
   "metadata": {},
   "source": []
  },
  {
   "attachments": {},
   "cell_type": "markdown",
   "metadata": {},
   "source": [
    "# Importações"
   ]
  },
  {
   "cell_type": "code",
   "execution_count": 2,
   "metadata": {},
   "outputs": [
    {
     "data": {
      "text/html": [
       "<div>\n",
       "<style scoped>\n",
       "    .dataframe tbody tr th:only-of-type {\n",
       "        vertical-align: middle;\n",
       "    }\n",
       "\n",
       "    .dataframe tbody tr th {\n",
       "        vertical-align: top;\n",
       "    }\n",
       "\n",
       "    .dataframe thead th {\n",
       "        text-align: right;\n",
       "    }\n",
       "</style>\n",
       "<table border=\"1\" class=\"dataframe\">\n",
       "  <thead>\n",
       "    <tr style=\"text-align: right;\">\n",
       "      <th></th>\n",
       "      <th>UNIT CODE</th>\n",
       "      <th>UNIT NAME</th>\n",
       "      <th>ORGAN CODE</th>\n",
       "      <th>ORGAN NAME</th>\n",
       "      <th>SUPERIOR ORGAN CODE</th>\n",
       "      <th>SUPERIOR ORGAN NAME</th>\n",
       "    </tr>\n",
       "  </thead>\n",
       "  <tbody>\n",
       "    <tr>\n",
       "      <th>0</th>\n",
       "      <td>974</td>\n",
       "      <td>CAMPUS PECÉM/IFCE</td>\n",
       "      <td>26405</td>\n",
       "      <td>INST.FED.DE EDUC.,CIENC.E TEC.DO CEARÁ</td>\n",
       "      <td>26000</td>\n",
       "      <td>MINISTERIO DA EDUCACAO</td>\n",
       "    </tr>\n",
       "    <tr>\n",
       "      <th>1</th>\n",
       "      <td>1199</td>\n",
       "      <td>EPE - CONSELHOS</td>\n",
       "      <td>32314</td>\n",
       "      <td>EMPRESA DE PESQUISA ENERGéTICA</td>\n",
       "      <td>32000</td>\n",
       "      <td>MINISTERIO DE MINAS E ENERGIA</td>\n",
       "    </tr>\n",
       "    <tr>\n",
       "      <th>2</th>\n",
       "      <td>1404</td>\n",
       "      <td>EPE - SUP PETRÓLEO E GÁS NATURAL</td>\n",
       "      <td>32314</td>\n",
       "      <td>EMPRESA DE PESQUISA ENERGéTICA</td>\n",
       "      <td>32000</td>\n",
       "      <td>MINISTERIO DE MINAS E ENERGIA</td>\n",
       "    </tr>\n",
       "    <tr>\n",
       "      <th>3</th>\n",
       "      <td>1405</td>\n",
       "      <td>EPE - SUP DERIVADOS PETRÓLEO E BIOCOMBUSTÍVEI</td>\n",
       "      <td>32314</td>\n",
       "      <td>EMPRESA DE PESQUISA ENERGéTICA</td>\n",
       "      <td>32000</td>\n",
       "      <td>MINISTERIO DE MINAS E ENERGIA</td>\n",
       "    </tr>\n",
       "    <tr>\n",
       "      <th>4</th>\n",
       "      <td>15873</td>\n",
       "      <td>INST FED.DE EDUC. CIENC.E.TEC.DA PARAIBA</td>\n",
       "      <td>c</td>\n",
       "      <td>INST.FED.DE EDUC.,CIENC.E TEC. DA PARAIBA</td>\n",
       "      <td>26000</td>\n",
       "      <td>MINISTERIO DA EDUCACAO</td>\n",
       "    </tr>\n",
       "  </tbody>\n",
       "</table>\n",
       "</div>"
      ],
      "text/plain": [
       "   UNIT CODE                                      UNIT NAME ORGAN CODE  \\\n",
       "0        974  CAMPUS PECÉM/IFCE                                  26405   \n",
       "1       1199  EPE - CONSELHOS                                    32314   \n",
       "2       1404  EPE - SUP PETRÓLEO E GÁS NATURAL                   32314   \n",
       "3       1405  EPE - SUP DERIVADOS PETRÓLEO E BIOCOMBUSTÍVEI      32314   \n",
       "4      15873  INST FED.DE EDUC. CIENC.E.TEC.DA PARAIBA               c   \n",
       "\n",
       "                                      ORGAN NAME  SUPERIOR ORGAN CODE  \\\n",
       "0  INST.FED.DE EDUC.,CIENC.E TEC.DO CEARÁ                       26000   \n",
       "1  EMPRESA DE PESQUISA ENERGéTICA                               32000   \n",
       "2  EMPRESA DE PESQUISA ENERGéTICA                               32000   \n",
       "3  EMPRESA DE PESQUISA ENERGéTICA                               32000   \n",
       "4  INST.FED.DE EDUC.,CIENC.E TEC. DA PARAIBA                    26000   \n",
       "\n",
       "                             SUPERIOR ORGAN NAME  \n",
       "0  MINISTERIO DA EDUCACAO                         \n",
       "1  MINISTERIO DE MINAS E ENERGIA                  \n",
       "2  MINISTERIO DE MINAS E ENERGIA                  \n",
       "3  MINISTERIO DE MINAS E ENERGIA                  \n",
       "4  MINISTERIO DA EDUCACAO                         "
      ]
     },
     "execution_count": 2,
     "metadata": {},
     "output_type": "execute_result"
    }
   ],
   "source": [
    "import os\n",
    "import pandas as pd\n",
    "from pandasai import PandasAI\n",
    "\n",
    "df = pd.read_csv('data/uasgs1000.csv')\n",
    "# print(df)\n",
    "\n",
    "# Instantiate a LLM\n",
    "from pandasai.llm.openai import OpenAI\n",
    "\n",
    "llm = OpenAI(api_token=os.getenv(\"OPENAI_API_KEY\"))\n",
    "\n",
    "pandas_ai = PandasAI(llm)\n",
    "pandas_ai(df, prompt=\"Show me some insights.\")"
   ]
  }
 ],
 "metadata": {
  "kernelspec": {
   "display_name": "pandasai",
   "language": "python",
   "name": "python3"
  },
  "language_info": {
   "codemirror_mode": {
    "name": "ipython",
    "version": 3
   },
   "file_extension": ".py",
   "mimetype": "text/x-python",
   "name": "python",
   "nbconvert_exporter": "python",
   "pygments_lexer": "ipython3",
   "version": "3.10.10"
  },
  "orig_nbformat": 4
 },
 "nbformat": 4,
 "nbformat_minor": 2
}
