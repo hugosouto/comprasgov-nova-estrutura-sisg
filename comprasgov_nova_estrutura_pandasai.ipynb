{
 "cells": [
  {
   "attachments": {},
   "cell_type": "markdown",
   "metadata": {},
   "source": [
    "# Sobre"
   ]
  },
  {
   "attachments": {},
   "cell_type": "markdown",
   "metadata": {},
   "source": []
  },
  {
   "attachments": {},
   "cell_type": "markdown",
   "metadata": {},
   "source": [
    "# Importações"
   ]
  },
  {
   "cell_type": "code",
   "execution_count": 10,
   "metadata": {},
   "outputs": [
    {
     "data": {
      "text/plain": [
       "array([], dtype=object)"
      ]
     },
     "execution_count": 10,
     "metadata": {},
     "output_type": "execute_result"
    }
   ],
   "source": [
    "import os\n",
    "import pandas as pd\n",
    "from pandasai import PandasAI\n",
    "\n",
    "df = pd.read_csv('data/uasgs1000.csv')\n",
    "# print(df)\n",
    "\n",
    "# Instantiate a LLM\n",
    "from pandasai.llm.openai import OpenAI\n",
    "\n",
    "llm = OpenAI(api_token=os.getenv(\"OPENAI_API_KEY\"))\n",
    "\n",
    "pandas_ai = PandasAI(llm)\n",
    "pandas_ai(df, prompt=\"What are the unit names related to the superior organ MINISTERIO DEFESA?\")"
   ]
  }
 ],
 "metadata": {
  "kernelspec": {
   "display_name": "pandasai",
   "language": "python",
   "name": "python3"
  },
  "language_info": {
   "codemirror_mode": {
    "name": "ipython",
    "version": 3
   },
   "file_extension": ".py",
   "mimetype": "text/x-python",
   "name": "python",
   "nbconvert_exporter": "python",
   "pygments_lexer": "ipython3",
   "version": "3.10.10"
  },
  "orig_nbformat": 4
 },
 "nbformat": 4,
 "nbformat_minor": 2
}
